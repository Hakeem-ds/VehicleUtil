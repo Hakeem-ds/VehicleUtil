{
 "cells": [
  {
   "cell_type": "markdown",
   "metadata": {
    "application/vnd.databricks.v1+cell": {
     "cellMetadata": {},
     "inputWidgets": {},
     "nuid": "33cee2b5-ea34-49c3-89b6-0539080ccc30",
     "showTitle": false,
     "tableResultSettingsMap": {},
     "title": ""
    },
    "id": "nSC83ohRoikg"
   },
   "source": [
    "# 1. Loading necessary dependencies\n",
    "\n",
    "- Import required packages.\n",
    "- Load data into dataframe."
   ]
  },
  {
   "cell_type": "markdown",
   "metadata": {
    "application/vnd.databricks.v1+cell": {
     "cellMetadata": {},
     "inputWidgets": {},
     "nuid": "a931d5c4-ceff-4111-a26f-0364204382fd",
     "showTitle": false,
     "tableResultSettingsMap": {},
     "title": ""
    },
    "id": "tFi3zVpbjwD_"
   },
   "source": [
    "- Mount google drive to allow reading of data from drive.\n"
   ]
  },
  {
   "cell_type": "code",
   "execution_count": 0,
   "metadata": {
    "application/vnd.databricks.v1+cell": {
     "cellMetadata": {},
     "inputWidgets": {},
     "nuid": "1475feeb-a15e-455d-9e38-341f89cf3955",
     "showTitle": false,
     "tableResultSettingsMap": {},
     "title": ""
    },
    "colab": {
     "base_uri": "https://localhost:8080/"
    },
    "id": "o7t9u5RYU2o2",
    "outputId": "e7c42f9a-9823-4993-c010-5db9b95e78ef"
   },
   "outputs": [],
   "source": [
    "from google.colab import drive\n",
    "drive.mount('/content/drive')"
   ]
  },
  {
   "cell_type": "markdown",
   "metadata": {
    "application/vnd.databricks.v1+cell": {
     "cellMetadata": {},
     "inputWidgets": {},
     "nuid": "3cc74515-0b97-4b7d-9ad1-4d8897be9306",
     "showTitle": false,
     "tableResultSettingsMap": {},
     "title": ""
    },
    "id": "3llM2WFXj2mC"
   },
   "source": [
    "- Import dependencies"
   ]
  },
  {
   "cell_type": "code",
   "execution_count": 0,
   "metadata": {
    "application/vnd.databricks.v1+cell": {
     "cellMetadata": {},
     "inputWidgets": {},
     "nuid": "2eb25515-78cc-429d-a6dd-7c4dca4b0203",
     "showTitle": false,
     "tableResultSettingsMap": {},
     "title": ""
    },
    "id": "laIpgFmzVh1M"
   },
   "outputs": [],
   "source": [
    "import pandas as pd\n",
    "from pprint import pprint\n",
    "import matplotlib.pyplot as plt\n",
    "import seaborn as sns\n",
    "import re\n",
    "import numpy as np\n",
    "import datetime\n",
    "from google.colab import files"
   ]
  },
  {
   "cell_type": "markdown",
   "metadata": {
    "application/vnd.databricks.v1+cell": {
     "cellMetadata": {},
     "inputWidgets": {},
     "nuid": "6f002e64-024f-41b8-afeb-70dffcc12934",
     "showTitle": false,
     "tableResultSettingsMap": {},
     "title": ""
    },
    "id": "ZmqRB7fdj9Gw"
   },
   "source": [
    "- Read file from file path in drive.\n",
    "- Worksheet consists of 2 sheets read seperately into sheet 1 and sheet 2."
   ]
  },
  {
   "cell_type": "markdown",
   "metadata": {
    "application/vnd.databricks.v1+cell": {
     "cellMetadata": {},
     "inputWidgets": {},
     "nuid": "0612a8c7-6fcd-462b-886b-6e710ff41020",
     "showTitle": false,
     "tableResultSettingsMap": {},
     "title": ""
    },
    "id": "BO57SACDoZ0r"
   },
   "source": [
    "# 2. Objectives: Find vehicles that are not being used.\n",
    "### Find vehicles that are not being used regularly."
   ]
  },
  {
   "cell_type": "markdown",
   "metadata": {
    "application/vnd.databricks.v1+cell": {
     "cellMetadata": {},
     "inputWidgets": {},
     "nuid": "69b1a2c1-6872-4271-9187-1513aa9def46",
     "showTitle": false,
     "tableResultSettingsMap": {},
     "title": ""
    },
    "id": "Pxh1IQVDs2PA"
   },
   "source": [
    "---\n",
    "#### 1. We have 3 dataframes (2 similar but covering different time period and one containing information regarding unique vehicle registrations), we combine the first 2 df and use it to compare the open leases df for registration numbers we need to work with.\n",
    "\n",
    "#### We identify vehicles that have been returned.\n",
    "---\n",
    "#### 2. Visualisations\n",
    "\n",
    "#### Plot of Distribution of Vehicle Activity over the one year period.\n",
    "---\n",
    "#### 3. Conclusion\n",
    "#### Output CSV with Columns [Registration,\tStart Date,\tAvgDaysActiveInWeek,\tDaysOfActivity,\tWeeksActiveInYear,\tLeaseDays,\tEstimatedUtilisation, UtilisationPercentage]\n"
   ]
  },
  {
   "cell_type": "markdown",
   "metadata": {
    "application/vnd.databricks.v1+cell": {
     "cellMetadata": {},
     "inputWidgets": {},
     "nuid": "986511e2-d830-4d15-be1e-db20509a6bdb",
     "showTitle": false,
     "tableResultSettingsMap": {},
     "title": ""
    },
    "id": "5fhEKxmKRLIk"
   },
   "source": [
    "# 3. Data Processing"
   ]
  },
  {
   "cell_type": "markdown",
   "metadata": {
    "application/vnd.databricks.v1+cell": {
     "cellMetadata": {},
     "inputWidgets": {},
     "nuid": "8c1d4bb3-80f5-4532-b9fd-5aac2977b154",
     "showTitle": false,
     "tableResultSettingsMap": {},
     "title": ""
    },
    "id": "7vn4z64WSRXr"
   },
   "source": [
    "## Import Excel files."
   ]
  },
  {
   "cell_type": "markdown",
   "metadata": {
    "application/vnd.databricks.v1+cell": {
     "cellMetadata": {},
     "inputWidgets": {},
     "nuid": "b6560316-fd50-46ce-b7a7-e4d1b6311588",
     "showTitle": false,
     "tableResultSettingsMap": {},
     "title": ""
    },
    "id": "rNGM4Kd6SYaJ"
   },
   "source": [
    "## 3.1. Load and Combine excel sheet to one Dataframe."
   ]
  },
  {
   "cell_type": "code",
   "execution_count": 0,
   "metadata": {
    "application/vnd.databricks.v1+cell": {
     "cellMetadata": {},
     "inputWidgets": {},
     "nuid": "b5006bf9-db81-4f70-aeec-da8997c84b4d",
     "showTitle": false,
     "tableResultSettingsMap": {},
     "title": ""
    },
    "id": "U9JkUc5KKJZm"
   },
   "outputs": [],
   "source": [
    "def load_and_combine_data(file_path1, file_path2):\n",
    "  \"\"\"\n",
    "  function description:\n",
    "\n",
    "  Loads data from the two Excel files, combine sheets from the first file,\n",
    "  and return the combined dataframe and the dataframe from the second file.\n",
    "\n",
    "  Args:\n",
    "    file_path1: Path to the first Excel file (containing multiple sheets).\n",
    "    file_path2: Path to the second Excel file (single sheet).\n",
    "\n",
    "  Returns:\n",
    "    A tuple containing:\n",
    "      - combined_df: Dataframe combining sheets from the first file.\n",
    "      - open_leases: Dataframe from the second file.\n",
    "\n",
    "      We use tuple to protect the data from being modified.\n",
    "      @return: combined_df, open_leases (use .copy() when assigning variable)\n",
    "  \"\"\"\n",
    "  # Read sheets from the first file\n",
    "  sheet1 = pd.read_excel(file_path1, 'September 23 to April 24')\n",
    "  sheet2 = pd.read_excel(file_path1, 'May 24 to Aug 24')\n",
    "\n",
    "  # Combine sheets into a single dataframe\n",
    "  combined_df = pd.concat([sheet1, sheet2], ignore_index=True)\n",
    "\n",
    "  # Read data from the second file\n",
    "  open_leases = pd.read_excel(file_path2)\n",
    "\n",
    "  return combined_df, open_leases\n"
   ]
  },
  {
   "cell_type": "code",
   "execution_count": 0,
   "metadata": {
    "application/vnd.databricks.v1+cell": {
     "cellMetadata": {},
     "inputWidgets": {},
     "nuid": "4def3035-ddf6-4cae-9170-7828d85ae452",
     "showTitle": false,
     "tableResultSettingsMap": {},
     "title": ""
    },
    "id": "j28S1tkUOTlt"
   },
   "outputs": [],
   "source": [
    "# specify path to file\n",
    "file_path1 = '/content/drive/MyDrive/Colab Notebooks/TfL/Vehicle_Util/Navman_Telematics_Download_2023-09-01_to_2024-08-31_anonymised.xlsx'\n",
    "file_path2 = '/content/drive/MyDrive/Colab Notebooks/TfL/Vehicle_Util/Open_Leases_2024-10-16_anonymised.xlsx'\n",
    "\n",
    "# call function\n",
    "combined_df, open_leases = load_and_combine_data(file_path1, file_path2)"
   ]
  },
  {
   "cell_type": "code",
   "execution_count": 0,
   "metadata": {
    "application/vnd.databricks.v1+cell": {
     "cellMetadata": {},
     "inputWidgets": {},
     "nuid": "b26eaadb-80e6-48bf-a81b-2305bb517a7d",
     "showTitle": false,
     "tableResultSettingsMap": {},
     "title": ""
    },
    "id": "M8OM1eE6u57r"
   },
   "outputs": [],
   "source": [
    "def display_dataframe_info(df, df_name=\"Dataframe\"):\n",
    "\n",
    "\n",
    "    print(f\"\\n--- {df_name} ---\")\n",
    "    print(\"\\nDataframe Info:\")\n",
    "    df.info()  # Display basic information"
   ]
  },
  {
   "cell_type": "code",
   "execution_count": 0,
   "metadata": {
    "application/vnd.databricks.v1+cell": {
     "cellMetadata": {},
     "inputWidgets": {},
     "nuid": "e0527753-1efb-4cb8-b4f1-0bf602b4ed67",
     "showTitle": false,
     "tableResultSettingsMap": {},
     "title": ""
    },
    "colab": {
     "base_uri": "https://localhost:8080/"
    },
    "id": "9dLydkofuXaU",
    "outputId": "84080245-ad87-4c78-9acb-74539ad6afff"
   },
   "outputs": [],
   "source": [
    "display_dataframe_info(combined_df, \"Combined Dataframe\")\n",
    "display_dataframe_info(open_leases, \"Open Leases Dataframe\")"
   ]
  },
  {
   "cell_type": "markdown",
   "metadata": {
    "application/vnd.databricks.v1+cell": {
     "cellMetadata": {},
     "inputWidgets": {},
     "nuid": "1b3ebaa8-e864-412a-b349-495e34a154b2",
     "showTitle": false,
     "tableResultSettingsMap": {},
     "title": ""
    },
    "id": "VyUh44ZNSoCa"
   },
   "source": [
    "## 3.2. Preprocessing Combined Dataframe."
   ]
  },
  {
   "cell_type": "markdown",
   "metadata": {
    "application/vnd.databricks.v1+cell": {
     "cellMetadata": {},
     "inputWidgets": {},
     "nuid": "c31b50b3-e639-48cf-ad43-bd642be67e9f",
     "showTitle": false,
     "tableResultSettingsMap": {},
     "title": ""
    },
    "id": "2puiTK6paRhq"
   },
   "source": [
    "### 3.2.1. Preprocessing"
   ]
  },
  {
   "cell_type": "markdown",
   "metadata": {
    "application/vnd.databricks.v1+cell": {
     "cellMetadata": {},
     "inputWidgets": {},
     "nuid": "73e5f4d9-03d1-40bc-b79f-e6dc402dcbf7",
     "showTitle": false,
     "tableResultSettingsMap": {},
     "title": ""
    },
    "id": "RwrTtY7vmGT2"
   },
   "source": [
    "Check how Vehicle and Registration columns difer from each other."
   ]
  },
  {
   "cell_type": "code",
   "execution_count": 0,
   "metadata": {
    "application/vnd.databricks.v1+cell": {
     "cellMetadata": {},
     "inputWidgets": {},
     "nuid": "9bc47af1-7f78-4fd5-b43e-acb0db9c3d93",
     "showTitle": false,
     "tableResultSettingsMap": {},
     "title": ""
    },
    "colab": {
     "base_uri": "https://localhost:8080/"
    },
    "id": "ojpShoA55unf",
    "outputId": "236319e4-78fb-48c8-d76d-f80a228e7a9d"
   },
   "outputs": [],
   "source": [
    "# Check if the number of unique values is indeed the same\n",
    "num_unique_vehicles = combined_df['Vehicle'].nunique()\n",
    "num_unique_registrations = combined_df['Registration'].nunique()\n",
    "\n",
    "print(f\"Number of unique vehicles: {num_unique_vehicles}\")\n",
    "print(f\"Number of unique registrations: {num_unique_registrations}\")\n",
    "\n",
    "# Check if unique values are identical\n",
    "unique_vehicles = combined_df['Vehicle'].unique()\n",
    "unique_registrations = combined_df['Registration'].unique()\n",
    "\n",
    "is_same_info = set(unique_vehicles) == set(unique_registrations)\n",
    "\n",
    "print(f\"Do 'Vehicle' and 'Registration' contain the same unique values? {is_same_info}\")\n",
    "\n",
    "different_rows = combined_df[combined_df['Registration'] != combined_df['Vehicle']]\n",
    "\n",
    "print(f'The total number of rows where difference is noticed: {len(different_rows)}')\n",
    "\n",
    "print('\\n', different_rows[['Vehicle','Registration']].head())"
   ]
  },
  {
   "cell_type": "code",
   "execution_count": 0,
   "metadata": {
    "application/vnd.databricks.v1+cell": {
     "cellMetadata": {},
     "inputWidgets": {},
     "nuid": "f15f9d6b-f5ca-4ef1-bd1f-5a5dc5d3180f",
     "showTitle": false,
     "tableResultSettingsMap": {},
     "title": ""
    },
    "id": "NW543GNJRAHw"
   },
   "outputs": [],
   "source": [
    "def preprocess_vehicle_data(df):\n",
    "    \"\"\"\n",
    "    Preprocesses the DataFrame by adding 'Returned' column, cleaning 'Registration',\n",
    "    and formatting 'EventTime'.\n",
    "\n",
    "    Args:\n",
    "        df: The pandas DataFrame containing vehicle data.\n",
    "\n",
    "    Returns:\n",
    "        The preprocessed pandas DataFrame.\n",
    "    \"\"\"\n",
    "    df['Returned'] = df['Vehicle'].str.contains(r'\\(.*\\)', regex=True).astype(int)\n",
    "    df['Registration'] = df['Registration'].str.replace(' ', '')\n",
    "    df['EventTime'] = pd.to_datetime(df['ActivityDate'].astype(str) + ' ' + df['EventTime'].astype(str))\n",
    "    return df"
   ]
  },
  {
   "cell_type": "code",
   "execution_count": 0,
   "metadata": {
    "application/vnd.databricks.v1+cell": {
     "cellMetadata": {},
     "inputWidgets": {},
     "nuid": "d00f8bb8-1c1f-49b4-ad1c-ee603d6f7f0e",
     "showTitle": false,
     "tableResultSettingsMap": {},
     "title": ""
    },
    "id": "W1AFOmbzet0S"
   },
   "outputs": [],
   "source": [
    "combined_df_processed = preprocess_vehicle_data(combined_df.copy())  # Create a copy for preprocessing"
   ]
  },
  {
   "cell_type": "markdown",
   "metadata": {
    "application/vnd.databricks.v1+cell": {
     "cellMetadata": {},
     "inputWidgets": {},
     "nuid": "de85b1ad-cde1-46d8-8247-7b03f09506a9",
     "showTitle": false,
     "tableResultSettingsMap": {},
     "title": ""
    },
    "id": "mH_SXxBU2iOO"
   },
   "source": [
    "### 3.2.2. Selecting the registration number we would like to work with"
   ]
  },
  {
   "cell_type": "markdown",
   "metadata": {
    "application/vnd.databricks.v1+cell": {
     "cellMetadata": {},
     "inputWidgets": {},
     "nuid": "b3d72196-882f-4ed7-ae1f-68527c1a99ad",
     "showTitle": false,
     "tableResultSettingsMap": {},
     "title": ""
    },
    "id": "c8uphp3yvfNu"
   },
   "source": [
    "#### 3.2.2.1. DataFrame Summary."
   ]
  },
  {
   "cell_type": "code",
   "execution_count": 0,
   "metadata": {
    "application/vnd.databricks.v1+cell": {
     "cellMetadata": {},
     "inputWidgets": {},
     "nuid": "849411ef-ea8e-4354-9d92-09b8f60af4b4",
     "showTitle": false,
     "tableResultSettingsMap": {},
     "title": ""
    },
    "colab": {
     "base_uri": "https://localhost:8080/"
    },
    "id": "D5JpcKis_lUX",
    "outputId": "f68d977b-6f31-4da9-9bb2-fddc251a526c"
   },
   "outputs": [],
   "source": [
    "open_leases['Reg No'].duplicated().sum() # check open_leases for duplicate Vehicles."
   ]
  },
  {
   "cell_type": "code",
   "execution_count": 0,
   "metadata": {
    "application/vnd.databricks.v1+cell": {
     "cellMetadata": {},
     "inputWidgets": {},
     "nuid": "758bd9fd-875d-4e6b-ac01-d0ae1a3377e5",
     "showTitle": false,
     "tableResultSettingsMap": {},
     "title": ""
    },
    "colab": {
     "base_uri": "https://localhost:8080/"
    },
    "id": "eaZ0wovnQxLn",
    "outputId": "1435015a-96b7-422a-b620-7cc338c09ad2"
   },
   "outputs": [],
   "source": [
    "print(f'The number of Vehicles in open_leases df is: {open_leases[\"Reg No\"].nunique()}')"
   ]
  },
  {
   "cell_type": "code",
   "execution_count": 0,
   "metadata": {
    "application/vnd.databricks.v1+cell": {
     "cellMetadata": {},
     "inputWidgets": {},
     "nuid": "49e604a5-d480-42ef-b99b-42eb7d2d4404",
     "showTitle": false,
     "tableResultSettingsMap": {},
     "title": ""
    },
    "colab": {
     "base_uri": "https://localhost:8080/"
    },
    "id": "HOY-F8DZzrKM",
    "outputId": "6d2952a4-dd06-47e2-be8f-266f0e3c7f16"
   },
   "outputs": [],
   "source": [
    "print(f'The number of Vehicles in combined df is: {combined_df[\"Registration\"].nunique()}')"
   ]
  },
  {
   "cell_type": "markdown",
   "metadata": {
    "application/vnd.databricks.v1+cell": {
     "cellMetadata": {},
     "inputWidgets": {},
     "nuid": "5ab5eb41-1d41-4ebe-aa0e-22482cd780da",
     "showTitle": false,
     "tableResultSettingsMap": {},
     "title": ""
    },
    "id": "Cu0CcSkZvtgN"
   },
   "source": [
    "#### 3.2.2.2. Filtering DataFrame"
   ]
  },
  {
   "cell_type": "code",
   "execution_count": 0,
   "metadata": {
    "application/vnd.databricks.v1+cell": {
     "cellMetadata": {},
     "inputWidgets": {},
     "nuid": "300dc6e1-2bcf-43ed-ad1a-b9fddd29530b",
     "showTitle": false,
     "tableResultSettingsMap": {},
     "title": ""
    },
    "id": "f75iRJTM2ghn"
   },
   "outputs": [],
   "source": [
    "registration_to_keep = open_leases['Reg No'].unique().tolist() # specify registrations to keep by specifying registrations contained within open leases dataframe"
   ]
  },
  {
   "cell_type": "code",
   "execution_count": 0,
   "metadata": {
    "application/vnd.databricks.v1+cell": {
     "cellMetadata": {},
     "inputWidgets": {},
     "nuid": "5d20e6bc-546d-437b-ac53-7c96d2a01316",
     "showTitle": false,
     "tableResultSettingsMap": {},
     "title": ""
    },
    "id": "BBSqtasu28lz"
   },
   "outputs": [],
   "source": [
    "filtered_combined_df = combined_df_processed[combined_df_processed['Registration'].isin(registration_to_keep)] # Filter combined df by registrations to keep"
   ]
  },
  {
   "cell_type": "code",
   "execution_count": 0,
   "metadata": {
    "application/vnd.databricks.v1+cell": {
     "cellMetadata": {},
     "inputWidgets": {},
     "nuid": "4b142ac6-889f-45a5-bb92-b4be5e6cd72f",
     "showTitle": false,
     "tableResultSettingsMap": {},
     "title": ""
    },
    "colab": {
     "base_uri": "https://localhost:8080/"
    },
    "id": "omxMH19M28dc",
    "outputId": "b218bd1d-23a9-4825-8e9f-48cbc4487003"
   },
   "outputs": [],
   "source": [
    "filtered_combined_df['Registration'].nunique()"
   ]
  },
  {
   "cell_type": "code",
   "execution_count": 0,
   "metadata": {
    "application/vnd.databricks.v1+cell": {
     "cellMetadata": {},
     "inputWidgets": {},
     "nuid": "246a1ea6-9e38-48b2-9a8f-2d5d6e672a9b",
     "showTitle": false,
     "tableResultSettingsMap": {},
     "title": ""
    },
    "colab": {
     "base_uri": "https://localhost:8080/"
    },
    "id": "I-n4HXjO2_PZ",
    "outputId": "638bd27f-5d03-482f-b0ec-57fc2f26e349"
   },
   "outputs": [],
   "source": [
    "# Registrations in open leases but not in telematics data\n",
    "\n",
    "# Check registration in open_leases and check iof it exists in processed combined df\n",
    "registration_not_in_filtered_combined_df = [reg for reg in open_leases['Reg No'].unique() if reg not in combined_df_processed['Registration'].unique()]\n",
    "print(f'The number of Vehicles in open leases but not in telematics data is: {len(registration_not_in_filtered_combined_df)}')\n",
    "\n",
    "registration_not_in_filtered_combined_df = pd.DataFrame({'Registration': registration_not_in_filtered_combined_df}) #make into df to export to csv\n",
    "\n",
    "registration_not_in_filtered_combined_df.to_csv('registration_not_in_filtered_combined_df.csv', index=False)\n",
    "# files.download('registration_not_in_filtered_combined_df.csv') # Remove (#) to download list of registrations and include back to stop code from downloading everytime cell is ran/ apply same below\n",
    "\n",
    "# Registrations in telematics data but not in open leases\n",
    "\n",
    "registration_not_in_open_leases = [reg for reg in combined_df_processed['Registration'].unique() if reg not in open_leases['Reg No'].values]\n",
    "print(f'The number of Vehicles in telematics but not in open leases data is: {len(registration_not_in_open_leases)}')\n",
    "\n",
    "\n",
    "registration_not_in_open_leases_df = pd.DataFrame({'Registration': registration_not_in_open_leases})\n",
    "\n",
    "registration_not_in_open_leases_df.to_csv('registration_not_in_open_leases.csv', index=False)\n",
    "# files.download('registration_not_in_open_leases.csv')"
   ]
  },
  {
   "cell_type": "markdown",
   "metadata": {
    "application/vnd.databricks.v1+cell": {
     "cellMetadata": {},
     "inputWidgets": {},
     "nuid": "f8eb12a1-6dbb-4996-ae5c-420613025c2c",
     "showTitle": false,
     "tableResultSettingsMap": {},
     "title": ""
    },
    "id": "SyL2NK2V1ioa"
   },
   "source": [
    "- There are 961 unique registration in the combined_df\n",
    "- There are 866 unique registration in the open_leases data\n",
    "- This leaves a difference of 95, where combined df has more unique registration\n",
    "- checking the registrations that are in open leases but not in combined_df we have 81\n",
    "- While checking the registration that are in combined_df but not in open leases we have 176 which is a total of 81 in open leases but not in combined_df and 95 in combined df but not in open leases."
   ]
  },
  {
   "cell_type": "code",
   "execution_count": 0,
   "metadata": {
    "application/vnd.databricks.v1+cell": {
     "cellMetadata": {},
     "inputWidgets": {},
     "nuid": "cc4570b6-121d-46ca-a686-255cc6f6540e",
     "showTitle": false,
     "tableResultSettingsMap": {},
     "title": ""
    },
    "id": "T8PLX7AI6Kra"
   },
   "outputs": [],
   "source": [
    "# Drop rows where 'Returned' column is equal to 1\n",
    "filtered_combined_df = filtered_combined_df[filtered_combined_df['Returned'] != 1]"
   ]
  },
  {
   "cell_type": "markdown",
   "metadata": {
    "application/vnd.databricks.v1+cell": {
     "cellMetadata": {},
     "inputWidgets": {},
     "nuid": "e524f0af-b741-4e19-981d-b946b1a42e08",
     "showTitle": false,
     "tableResultSettingsMap": {},
     "title": ""
    },
    "id": "UkecVWV66nDH"
   },
   "source": [
    "- Written above we drop the rows where the vehicle has been returned as we do not want to include them in our analysis.\n",
    "- Only one row was dropped as seen below cut from 785 to 784."
   ]
  },
  {
   "cell_type": "code",
   "execution_count": 0,
   "metadata": {
    "application/vnd.databricks.v1+cell": {
     "cellMetadata": {},
     "inputWidgets": {},
     "nuid": "e5dcdad5-0a7e-41c2-98fb-d6d5ee229da3",
     "showTitle": false,
     "tableResultSettingsMap": {},
     "title": ""
    },
    "colab": {
     "base_uri": "https://localhost:8080/"
    },
    "id": "OKbGCNTQYSQH",
    "outputId": "63c52bf0-c49e-4019-b5b3-d66c5b3aa97d"
   },
   "outputs": [],
   "source": [
    "filtered_combined_df['Registration'].nunique()"
   ]
  },
  {
   "cell_type": "markdown",
   "metadata": {
    "application/vnd.databricks.v1+cell": {
     "cellMetadata": {},
     "inputWidgets": {},
     "nuid": "70c2afd8-05c0-4cb3-b9a7-bc7759eab2e4",
     "showTitle": false,
     "tableResultSettingsMap": {},
     "title": ""
    },
    "id": "4KqezGEzd1T-"
   },
   "source": [
    "# 4. Calculating activity days by Registration."
   ]
  },
  {
   "cell_type": "markdown",
   "metadata": {
    "application/vnd.databricks.v1+cell": {
     "cellMetadata": {},
     "inputWidgets": {},
     "nuid": "fe3a4f34-db9d-4dee-9ae5-add0f46d9e7d",
     "showTitle": false,
     "tableResultSettingsMap": {},
     "title": ""
    },
    "id": "jZ84ztZc4l96"
   },
   "source": [
    "## 4.1. Overall Active Days."
   ]
  },
  {
   "cell_type": "code",
   "execution_count": 0,
   "metadata": {
    "application/vnd.databricks.v1+cell": {
     "cellMetadata": {},
     "inputWidgets": {},
     "nuid": "22c802f0-c13d-44c8-80d4-0b10f15437bb",
     "showTitle": false,
     "tableResultSettingsMap": {},
     "title": ""
    },
    "id": "EpwX7SE4uc3z"
   },
   "outputs": [],
   "source": [
    "def calculate_vehicle_activity_summary(df, registration_col='Registration', date_col='ActivityDate'):\n",
    "    \"\"\"\n",
    "    Calculate the total activities and unique activity days for each vehicle.\n",
    "\n",
    "    Args:\n",
    "        df: The input pandas DataFrame containing vehicle activity data.\n",
    "        registration_col: The name of the column containing vehicle registration information (default: 'Registration').\n",
    "        date_col: The name of the column containing activity dates (default: 'ActivityDate').\n",
    "\n",
    "    Returns:\n",
    "        A pandas DataFrame summarizing total activities and unique activity days for each vehicle.\n",
    "    \"\"\"\n",
    "\n",
    "    # Ensure date column is in datetime format\n",
    "    df[date_col] = pd.to_datetime(df[date_col])\n",
    "\n",
    "    # Calculate total activities\n",
    "    total_activities = df.groupby(registration_col)[date_col].count().reset_index()\n",
    "    total_activities = total_activities.rename(columns={date_col: 'TotalActivities'})\n",
    "\n",
    "    # Calculate unique activity days\n",
    "    activity_days = df.groupby(registration_col)[date_col].nunique().reset_index()\n",
    "    activity_days = activity_days.rename(columns={date_col: 'DaysOfActivity'})\n",
    "\n",
    "    # Merge results\n",
    "    activity_summary = pd.merge(total_activities, activity_days, on=registration_col, validate = 'one_to_one')\n",
    "\n",
    "    return activity_summary"
   ]
  },
  {
   "cell_type": "code",
   "execution_count": 0,
   "metadata": {
    "application/vnd.databricks.v1+cell": {
     "cellMetadata": {},
     "inputWidgets": {},
     "nuid": "4a21533f-8948-4d71-8e06-ba812e133293",
     "showTitle": false,
     "tableResultSettingsMap": {},
     "title": ""
    },
    "colab": {
     "base_uri": "https://localhost:8080/"
    },
    "id": "TbkHacKWuwSS",
    "outputId": "caff9f04-eca7-4e61-c12f-90ba61ea295b"
   },
   "outputs": [],
   "source": [
    "activity_summary = calculate_vehicle_activity_summary(filtered_combined_df)\n",
    "\n",
    "# Display activity_summary_df\n",
    "print(activity_summary.sort_values(by='DaysOfActivity', ascending=False).head())"
   ]
  },
  {
   "cell_type": "code",
   "execution_count": 0,
   "metadata": {
    "application/vnd.databricks.v1+cell": {
     "cellMetadata": {},
     "inputWidgets": {},
     "nuid": "94102ca3-8012-4e1d-9fbb-cdb1a27e73a5",
     "showTitle": false,
     "tableResultSettingsMap": {},
     "title": ""
    },
    "colab": {
     "base_uri": "https://localhost:8080/",
     "height": 514
    },
    "id": "2p9nMhm6j1h9",
    "outputId": "60357d84-abe4-46b9-c06e-b87f18fb54f3"
   },
   "outputs": [],
   "source": [
    "plt.figure(figsize=(10, 6))  # Adjust figure size as needed\n",
    "sns.histplot(activity_summary['DaysOfActivity'], bins=30, kde=False)  # Adjust bins as needed\n",
    "plt.title('Distribution of Vehicle Activity Days')\n",
    "plt.xlabel('Days of Activity')\n",
    "plt.ylabel('Number of Vehicles')\n",
    "plt.show()"
   ]
  },
  {
   "cell_type": "markdown",
   "metadata": {
    "application/vnd.databricks.v1+cell": {
     "cellMetadata": {},
     "inputWidgets": {},
     "nuid": "8f2703ff-30e7-4664-956d-76bd9ea98c90",
     "showTitle": false,
     "tableResultSettingsMap": {},
     "title": ""
    },
    "id": "PZc3iawAnqKy"
   },
   "source": [
    "## 4.2. Days Active In a Specific Week."
   ]
  },
  {
   "cell_type": "code",
   "execution_count": 0,
   "metadata": {
    "application/vnd.databricks.v1+cell": {
     "cellMetadata": {},
     "inputWidgets": {},
     "nuid": "51622b30-202d-4f5f-8c57-863eec40fdc2",
     "showTitle": false,
     "tableResultSettingsMap": {},
     "title": ""
    },
    "colab": {
     "base_uri": "https://localhost:8080/"
    },
    "id": "Rl6DLVnPHWPv",
    "outputId": "b1e28b69-4b7a-47f7-a542-171bbe234b7e"
   },
   "outputs": [],
   "source": [
    "# Use iso standard for weekly dating for uniformity and reuseability, check start date of data and end date\n",
    "\n",
    "date = datetime.date(2023, 9, 4) # 2024-08-30/2023-09-01 both start and end date fall within same iso week but for different years.\n",
    "iso_calendar = date.isocalendar()\n",
    "\n",
    "print(f\"ISO Week Number: {iso_calendar[1]}\")\n",
    "print(f\"ISO Year: {iso_calendar[0]}\")"
   ]
  },
  {
   "cell_type": "code",
   "execution_count": 0,
   "metadata": {
    "application/vnd.databricks.v1+cell": {
     "cellMetadata": {},
     "inputWidgets": {},
     "nuid": "19f6b677-ba3a-4eda-aefb-5ff7d4b8e800",
     "showTitle": false,
     "tableResultSettingsMap": {},
     "title": ""
    },
    "colab": {
     "base_uri": "https://localhost:8080/",
     "height": 790
    },
    "id": "jS5y6bbB3yVg",
    "outputId": "30bb34e5-e0ed-48bc-8a69-ebacaf12a74e"
   },
   "outputs": [],
   "source": [
    "filtered_combined_df[filtered_combined_df['Registration'] == 'LS21DMX']"
   ]
  },
  {
   "cell_type": "markdown",
   "metadata": {
    "application/vnd.databricks.v1+cell": {
     "cellMetadata": {},
     "inputWidgets": {},
     "nuid": "e6779bc2-9a37-4c16-9e51-3a75d7f20579",
     "showTitle": false,
     "tableResultSettingsMap": {},
     "title": ""
    },
    "id": "3r0tbWFXzgau"
   },
   "source": [
    "ISO week 2024 and 2023 overlap which leads to the weeks being read as one extra and also the overlap in the previous 8 day activity days."
   ]
  },
  {
   "cell_type": "code",
   "execution_count": 0,
   "metadata": {
    "application/vnd.databricks.v1+cell": {
     "cellMetadata": {},
     "inputWidgets": {},
     "nuid": "e1534e9f-2b8a-4128-915d-f012038a6c10",
     "showTitle": false,
     "tableResultSettingsMap": {},
     "title": ""
    },
    "id": "5qzx-y4b-Eb7"
   },
   "outputs": [],
   "source": [
    "# Extract ISO week number and year from 'ActivityDate'\n",
    "filtered_combined_df['ISOWeek'] = filtered_combined_df['ActivityDate'].dt.isocalendar().week\n",
    "filtered_combined_df['ISOYear'] = filtered_combined_df['ActivityDate'].dt.isocalendar().year\n",
    "\n",
    "# Group by 'Registration', 'ISOWeek', 'ISOYear', and 'AcquisitionYear'\n",
    "weekly_activity = filtered_combined_df.groupby(['Registration', 'ISOWeek', 'ISOYear'])['ActivityDate'].nunique().reset_index()\n",
    "\n",
    "# Rename the column to 'DaysActiveInWeek'\n",
    "weekly_activity = weekly_activity.rename(columns={'ActivityDate': 'DaysActiveInWeek'})"
   ]
  },
  {
   "cell_type": "code",
   "execution_count": 0,
   "metadata": {
    "application/vnd.databricks.v1+cell": {
     "cellMetadata": {},
     "inputWidgets": {},
     "nuid": "c1575bd6-c6de-4de3-a1a9-d1191dd327ae",
     "showTitle": false,
     "tableResultSettingsMap": {},
     "title": ""
    },
    "colab": {
     "base_uri": "https://localhost:8080/",
     "height": 206
    },
    "id": "YKX5jGiT-qbR",
    "outputId": "b0b80bec-ed9d-4537-b146-71f76805db27"
   },
   "outputs": [],
   "source": [
    "weekly_activity.head()"
   ]
  },
  {
   "cell_type": "code",
   "execution_count": 0,
   "metadata": {
    "application/vnd.databricks.v1+cell": {
     "cellMetadata": {},
     "inputWidgets": {},
     "nuid": "d4848ff9-94a3-4577-bc28-4128bf8e5e21",
     "showTitle": false,
     "tableResultSettingsMap": {},
     "title": ""
    },
    "colab": {
     "base_uri": "https://localhost:8080/"
    },
    "id": "1ngPfACQ_an0",
    "outputId": "0ac29f78-7166-40a9-d7e6-31279c67e794"
   },
   "outputs": [],
   "source": [
    "weekly_activity['DaysActiveInWeek'].unique()"
   ]
  },
  {
   "cell_type": "code",
   "execution_count": 0,
   "metadata": {
    "application/vnd.databricks.v1+cell": {
     "cellMetadata": {},
     "inputWidgets": {},
     "nuid": "ee57e467-d5f2-47f7-92fc-4ea701f49416",
     "showTitle": false,
     "tableResultSettingsMap": {},
     "title": ""
    },
    "colab": {
     "base_uri": "https://localhost:8080/",
     "height": 507
    },
    "id": "RSZwT3_sigxe",
    "outputId": "8ee41319-25df-4d75-b66f-3adace039c95"
   },
   "outputs": [],
   "source": [
    "# Create a histogram of 'DaysActiveInWeek'\n",
    "plt.figure(figsize=(10, 6))\n",
    "sns.histplot(weekly_activity['DaysActiveInWeek'], bins=7, discrete=True)\n",
    "plt.title('Distribution of Days Active per Week for All Activities')\n",
    "plt.xlabel('Days Active in a Week')\n",
    "plt.ylabel('Number of Vehicles')\n",
    "plt.show()"
   ]
  },
  {
   "cell_type": "markdown",
   "metadata": {
    "application/vnd.databricks.v1+cell": {
     "cellMetadata": {},
     "inputWidgets": {},
     "nuid": "a9a93999-4466-4201-bccd-d2ed30f7b7aa",
     "showTitle": false,
     "tableResultSettingsMap": {},
     "title": ""
    },
    "id": "hLntxhNOVh12"
   },
   "source": [
    "# 5. Estimating Underutilisation Rate."
   ]
  },
  {
   "cell_type": "markdown",
   "metadata": {
    "application/vnd.databricks.v1+cell": {
     "cellMetadata": {},
     "inputWidgets": {},
     "nuid": "37c21eed-86ca-4190-a3a8-ace5e1867291",
     "showTitle": false,
     "tableResultSettingsMap": {},
     "title": ""
    },
    "id": "7F-OF1KS6Igt"
   },
   "source": [
    "## 5.1. Average Week Stats."
   ]
  },
  {
   "cell_type": "code",
   "execution_count": 0,
   "metadata": {
    "application/vnd.databricks.v1+cell": {
     "cellMetadata": {},
     "inputWidgets": {},
     "nuid": "c479a118-5b32-4b5b-91b4-13896f2d3820",
     "showTitle": false,
     "tableResultSettingsMap": {},
     "title": ""
    },
    "id": "D5koJWcVVmeL"
   },
   "outputs": [],
   "source": [
    "weekly_stats_by_reg = weekly_activity.groupby('Registration')['DaysActiveInWeek'].agg('mean').reset_index()\n",
    "weekly_stats_by_reg = weekly_stats_by_reg.rename(columns={\n",
    "    'DaysActiveInWeek': 'AvgDaysActiveInWeek'\n",
    "})"
   ]
  },
  {
   "cell_type": "code",
   "execution_count": 0,
   "metadata": {
    "application/vnd.databricks.v1+cell": {
     "cellMetadata": {},
     "inputWidgets": {},
     "nuid": "ded6adcb-8764-4ba0-81c4-8276f540f42f",
     "showTitle": false,
     "tableResultSettingsMap": {},
     "title": ""
    },
    "colab": {
     "base_uri": "https://localhost:8080/"
    },
    "id": "FUDVDJIxUG6V",
    "outputId": "7bdb2841-b60b-4ad4-9422-1df8d4f544f4"
   },
   "outputs": [],
   "source": [
    "# Identify and display null\n",
    "print(\"Null Rows:\\n\", weekly_stats_by_reg[weekly_stats_by_reg.isnull().any(axis=1)])"
   ]
  },
  {
   "cell_type": "code",
   "execution_count": 0,
   "metadata": {
    "application/vnd.databricks.v1+cell": {
     "cellMetadata": {},
     "inputWidgets": {},
     "nuid": "2a200dd8-ce48-4b28-8bbd-fdfb1e8d406d",
     "showTitle": false,
     "tableResultSettingsMap": {},
     "title": ""
    },
    "id": "om_SyzkjUGyx"
   },
   "outputs": [],
   "source": [
    "# Round columns to the nearest whole number using standard rounding\n",
    "weekly_stats_by_reg['AvgDaysActiveInWeek'] = weekly_stats_by_reg['AvgDaysActiveInWeek'].round().astype(int)"
   ]
  },
  {
   "cell_type": "code",
   "execution_count": 0,
   "metadata": {
    "application/vnd.databricks.v1+cell": {
     "cellMetadata": {},
     "inputWidgets": {},
     "nuid": "caf895fe-3658-40eb-802d-405fa07526e9",
     "showTitle": false,
     "tableResultSettingsMap": {},
     "title": ""
    },
    "colab": {
     "base_uri": "https://localhost:8080/",
     "height": 513
    },
    "id": "aRPjhnzAU-Ac",
    "outputId": "42bbb5be-66de-4673-e0f9-6863f1273599"
   },
   "outputs": [],
   "source": [
    "#Histogram of 'AvgDaysActiveInWeek'\n",
    "plt.figure(figsize=(10, 6))\n",
    "sns.histplot(weekly_stats_by_reg['AvgDaysActiveInWeek'], bins=7, discrete=True)\n",
    "plt.title('Distribution of Days Active per Week for All Vehicles')\n",
    "plt.xlabel('Average Days Active in a Week')\n",
    "plt.ylabel('Number of Vehicles')\n",
    "plt.show()"
   ]
  },
  {
   "cell_type": "code",
   "execution_count": 0,
   "metadata": {
    "application/vnd.databricks.v1+cell": {
     "cellMetadata": {},
     "inputWidgets": {},
     "nuid": "8710cd00-914a-4c9d-bf7a-56ea47b04f6a",
     "showTitle": false,
     "tableResultSettingsMap": {},
     "title": ""
    },
    "colab": {
     "base_uri": "https://localhost:8080/",
     "height": 303
    },
    "id": "1A7OWxHqZqEO",
    "outputId": "505a99a1-2469-4753-e4ec-2d55b87cf63b"
   },
   "outputs": [],
   "source": [
    "weekly_stats_by_reg['AvgDaysActiveInWeek'].value_counts().sort_index()"
   ]
  },
  {
   "cell_type": "code",
   "execution_count": 0,
   "metadata": {
    "application/vnd.databricks.v1+cell": {
     "cellMetadata": {},
     "inputWidgets": {},
     "nuid": "badc1a23-db92-4898-99ea-edae873a52eb",
     "showTitle": false,
     "tableResultSettingsMap": {},
     "title": ""
    },
    "colab": {
     "base_uri": "https://localhost:8080/",
     "height": 564
    },
    "id": "5919Jvo2WaDl",
    "outputId": "9436c360-7716-493c-ae71-439f665b35a1"
   },
   "outputs": [],
   "source": [
    "# Group by Activity Levels\n",
    "weekly_stats_by_reg['ActivityLevel'] = pd.cut(weekly_stats_by_reg['AvgDaysActiveInWeek'],\n",
    "                                               bins=[0, 2, 4, 7],\n",
    "                                               labels=['Low', 'Medium', 'High'])\n",
    "activity_level_counts = weekly_stats_by_reg['ActivityLevel'].value_counts().sort_index()\n",
    "\n",
    "# Plot activity level counts\n",
    "plt.figure(figsize=(8, 6))\n",
    "sns.barplot(x=activity_level_counts.index, y=activity_level_counts.values)\n",
    "plt.title('Distribution of Vehicle Activity Levels')\n",
    "plt.xlabel('Activity Level')\n",
    "plt.ylabel('Number of Vehicles')\n",
    "plt.show()"
   ]
  },
  {
   "cell_type": "code",
   "execution_count": 0,
   "metadata": {
    "application/vnd.databricks.v1+cell": {
     "cellMetadata": {},
     "inputWidgets": {},
     "nuid": "bcdc395d-43f9-4ff9-86d5-69e2c0c23fcb",
     "showTitle": false,
     "tableResultSettingsMap": {},
     "title": ""
    },
    "colab": {
     "base_uri": "https://localhost:8080/",
     "height": 206
    },
    "id": "RdpUQfDl7DRk",
    "outputId": "02527da5-9656-4d21-de3e-01a884745012"
   },
   "outputs": [],
   "source": [
    "weekly_activity.head()"
   ]
  },
  {
   "cell_type": "code",
   "execution_count": 0,
   "metadata": {
    "application/vnd.databricks.v1+cell": {
     "cellMetadata": {},
     "inputWidgets": {},
     "nuid": "26b907d5-76df-4102-bd32-deca918db47d",
     "showTitle": false,
     "tableResultSettingsMap": {},
     "title": ""
    },
    "id": "nZlJp7nrPeG_"
   },
   "outputs": [],
   "source": [
    "# Find weeks active in Year\n",
    "weekly_activity['IsActive'] = weekly_activity['DaysActiveInWeek'] > 0  # Create a boolean column indicating active weeks\n",
    "weeks_active_by_reg = weekly_activity.groupby('Registration')['IsActive'].sum().reset_index()\n",
    "weeks_active_by_reg = weeks_active_by_reg.rename(columns={'IsActive': 'WeeksActiveInYear'})\n",
    "\n",
    "# Merge weeks active back into weekly_stats_by_reg\n",
    "weekly_stats_by_reg = weekly_stats_by_reg.merge(weeks_active_by_reg, on='Registration')"
   ]
  },
  {
   "cell_type": "code",
   "execution_count": 0,
   "metadata": {
    "application/vnd.databricks.v1+cell": {
     "cellMetadata": {},
     "inputWidgets": {},
     "nuid": "5a7f96b8-0685-4b4e-8ec8-3f587b03e5dd",
     "showTitle": false,
     "tableResultSettingsMap": {},
     "title": ""
    },
    "colab": {
     "base_uri": "https://localhost:8080/",
     "height": 206
    },
    "id": "TGYpVRWJMNTY",
    "outputId": "a8eb015b-f9ea-41d3-d69a-69da41b7d89a"
   },
   "outputs": [],
   "source": [
    "weekly_stats_by_reg.head()"
   ]
  },
  {
   "cell_type": "code",
   "execution_count": 0,
   "metadata": {
    "application/vnd.databricks.v1+cell": {
     "cellMetadata": {},
     "inputWidgets": {},
     "nuid": "8d754ec3-bf6f-4111-a1d1-6152db1338a0",
     "showTitle": false,
     "tableResultSettingsMap": {},
     "title": ""
    },
    "colab": {
     "base_uri": "https://localhost:8080/",
     "height": 206
    },
    "id": "ewoZqlp89I_0",
    "outputId": "60e42899-0e0d-46a4-d20e-0dbf926753a4"
   },
   "outputs": [],
   "source": [
    "activity_summary.head()"
   ]
  },
  {
   "cell_type": "code",
   "execution_count": 0,
   "metadata": {
    "application/vnd.databricks.v1+cell": {
     "cellMetadata": {},
     "inputWidgets": {},
     "nuid": "cc1ed2da-384d-4f4f-a703-884af8f2fe4b",
     "showTitle": false,
     "tableResultSettingsMap": {},
     "title": ""
    },
    "id": "0bXf7oaR89bz"
   },
   "outputs": [],
   "source": [
    "stats_df = pd.merge(weekly_stats_by_reg,\n",
    "                               activity_summary[['Registration', 'DaysOfActivity']],\n",
    "                               on='Registration',\n",
    "                               how='left')"
   ]
  },
  {
   "cell_type": "code",
   "execution_count": 0,
   "metadata": {
    "application/vnd.databricks.v1+cell": {
     "cellMetadata": {},
     "inputWidgets": {},
     "nuid": "219b248c-c8be-4277-a207-44e814a60d22",
     "showTitle": false,
     "tableResultSettingsMap": {},
     "title": ""
    },
    "colab": {
     "base_uri": "https://localhost:8080/",
     "height": 206
    },
    "id": "H_f3QeJu_lcz",
    "outputId": "cf224f26-2afd-4172-d7a5-57b2017bc379"
   },
   "outputs": [],
   "source": [
    "stats_df.head()"
   ]
  },
  {
   "cell_type": "markdown",
   "metadata": {
    "application/vnd.databricks.v1+cell": {
     "cellMetadata": {},
     "inputWidgets": {},
     "nuid": "ef3d270f-f7a9-471a-a474-ece9b5d4aa96",
     "showTitle": false,
     "tableResultSettingsMap": {},
     "title": ""
    },
    "id": "NbMAimocNayo"
   },
   "source": [
    "## 5.2. Estimate Utilisation Rate."
   ]
  },
  {
   "cell_type": "code",
   "execution_count": 0,
   "metadata": {
    "application/vnd.databricks.v1+cell": {
     "cellMetadata": {},
     "inputWidgets": {},
     "nuid": "c02d54b6-0265-4943-9aa8-8846fe84c4e5",
     "showTitle": false,
     "tableResultSettingsMap": {},
     "title": ""
    },
    "id": "A9U7iIbnCozr"
   },
   "outputs": [],
   "source": [
    "merged_df = pd.merge(stats_df, open_leases[['Reg No', 'Start Date']], left_on='Registration', right_on='Reg No', how='left', validate='one_to_one')\n",
    "merged_df.drop(columns=['Reg No'], inplace=True)"
   ]
  },
  {
   "cell_type": "code",
   "execution_count": 0,
   "metadata": {
    "application/vnd.databricks.v1+cell": {
     "cellMetadata": {},
     "inputWidgets": {},
     "nuid": "5fe70c0d-a523-4365-b50d-0d3544114f2e",
     "showTitle": false,
     "tableResultSettingsMap": {},
     "title": ""
    },
    "id": "CLde3CP1DezV"
   },
   "outputs": [],
   "source": [
    "new_order = ['Registration', 'Start Date', 'AvgDaysActiveInWeek', 'WeeksActiveInYear', 'DaysOfActivity']\n",
    "merged_df = merged_df[new_order]"
   ]
  },
  {
   "cell_type": "code",
   "execution_count": 0,
   "metadata": {
    "application/vnd.databricks.v1+cell": {
     "cellMetadata": {},
     "inputWidgets": {},
     "nuid": "89900810-ae80-44a4-96e2-efd1c7cdbb40",
     "showTitle": false,
     "tableResultSettingsMap": {},
     "title": ""
    },
    "colab": {
     "base_uri": "https://localhost:8080/",
     "height": 206
    },
    "id": "RVrG7zzfCotF",
    "outputId": "fb14a8d9-8a93-4f6c-8d1b-5f970c7ace03"
   },
   "outputs": [],
   "source": [
    "merged_df.head()"
   ]
  },
  {
   "cell_type": "code",
   "execution_count": 0,
   "metadata": {
    "application/vnd.databricks.v1+cell": {
     "cellMetadata": {},
     "inputWidgets": {},
     "nuid": "f819e6ef-b94e-4e78-bfdb-e411141d1bcc",
     "showTitle": false,
     "tableResultSettingsMap": {},
     "title": ""
    },
    "colab": {
     "base_uri": "https://localhost:8080/"
    },
    "id": "cRtHRXOy1JD-",
    "outputId": "5d989fdd-ea75-4412-c3e6-4febf0fda182"
   },
   "outputs": [],
   "source": [
    "filtered_combined_df['ActivityDate'].max() # We confirm the max date using the filtered df as it contains all preprocessed and filtered vehicles we are considering"
   ]
  },
  {
   "cell_type": "code",
   "execution_count": 0,
   "metadata": {
    "application/vnd.databricks.v1+cell": {
     "cellMetadata": {},
     "inputWidgets": {},
     "nuid": "a7128312-1d42-4e5a-b39e-3c48d31fb087",
     "showTitle": false,
     "tableResultSettingsMap": {},
     "title": ""
    },
    "id": "YaaJvXmN1aJl"
   },
   "outputs": [],
   "source": [
    "# find the max value of activity date to determine the last date we are working with\n",
    "max_activity_date = filtered_combined_df['ActivityDate'].max()\n",
    "\n",
    "# Calculate the cutoff date, which is one year before the max activity date\n",
    "cutoff_date = max_activity_date - pd.DateOffset(years=1)\n",
    "\n",
    "# Create a new column called 'LeaseDays' and initialize it with 0\n",
    "merged_df['LeaseDays'] = 0\n",
    "\n",
    "# Iterate through rows (Start Date) and calculate days difference\n",
    "for index, row in merged_df.iterrows():\n",
    "    if row['Start Date'] <= cutoff_date:\n",
    "        merged_df.at[index, 'LeaseDays'] = 365  # Assign 365 if start date is one year or more before the max date\n",
    "    else:\n",
    "        merged_df.at[index, 'LeaseDays'] = (max_activity_date - row['Start Date']).days\n"
   ]
  },
  {
   "cell_type": "code",
   "execution_count": 0,
   "metadata": {
    "application/vnd.databricks.v1+cell": {
     "cellMetadata": {},
     "inputWidgets": {},
     "nuid": "c4ffff76-5098-4dfb-b50f-d2e2d309325f",
     "showTitle": false,
     "tableResultSettingsMap": {},
     "title": ""
    },
    "colab": {
     "base_uri": "https://localhost:8080/"
    },
    "id": "8xrbBTNA3jCB",
    "outputId": "16110d3d-c240-4aca-e85e-a1baf1f723b4"
   },
   "outputs": [],
   "source": [
    "cutoff_date"
   ]
  },
  {
   "cell_type": "code",
   "execution_count": 0,
   "metadata": {
    "application/vnd.databricks.v1+cell": {
     "cellMetadata": {},
     "inputWidgets": {},
     "nuid": "a69eac53-6927-4d2d-98e8-64aae13a70a9",
     "showTitle": false,
     "tableResultSettingsMap": {},
     "title": ""
    },
    "colab": {
     "base_uri": "https://localhost:8080/",
     "height": 272
    },
    "id": "PQbxDNOMGNgj",
    "outputId": "b12d070e-3a57-450f-98f7-07b8de148e4c"
   },
   "outputs": [],
   "source": [
    "merged_df.isnull().sum()"
   ]
  },
  {
   "cell_type": "code",
   "execution_count": 0,
   "metadata": {
    "application/vnd.databricks.v1+cell": {
     "cellMetadata": {},
     "inputWidgets": {},
     "nuid": "e8bdea3e-6912-4cbb-9d92-02372bd8f3be",
     "showTitle": false,
     "tableResultSettingsMap": {},
     "title": ""
    },
    "id": "l6ZzR3Rg7Y6u"
   },
   "outputs": [],
   "source": [
    "# Calculate Utilisation Rate\n",
    "merged_df['UtilisationRate'] = merged_df['DaysOfActivity'] / merged_df['LeaseDays']\n",
    "\n",
    "# Calculate Utilisation Percentage\n",
    "merged_df['UtilisationPercentage'] = merged_df['UtilisationRate'] * 100\n",
    "merged_df['UtilisationPercentage'] = merged_df['UtilisationPercentage'].round(2)"
   ]
  },
  {
   "cell_type": "code",
   "execution_count": 0,
   "metadata": {
    "application/vnd.databricks.v1+cell": {
     "cellMetadata": {},
     "inputWidgets": {},
     "nuid": "1ffb31fa-7f97-456d-ab61-f75cf206ecff",
     "showTitle": false,
     "tableResultSettingsMap": {},
     "title": ""
    },
    "colab": {
     "base_uri": "https://localhost:8080/",
     "height": 1000
    },
    "id": "55VvzDl1Gk0a",
    "outputId": "58731b37-537d-4fc5-bf53-6f21057fcdf4"
   },
   "outputs": [],
   "source": [
    "merged_df.sort_values(by='UtilisationPercentage', ascending=True).head(20)"
   ]
  },
  {
   "cell_type": "markdown",
   "metadata": {
    "application/vnd.databricks.v1+cell": {
     "cellMetadata": {},
     "inputWidgets": {},
     "nuid": "bde60633-e21f-44ff-bcac-598b2c04dc5d",
     "showTitle": false,
     "tableResultSettingsMap": {},
     "title": ""
    },
    "id": "j2ATjMoff7Vj"
   },
   "source": [
    "- Plor Distribution of Utilisation Percentage helps us with setting cut off for utilisation rate and see how amny vehicles might be affected."
   ]
  },
  {
   "cell_type": "code",
   "execution_count": 0,
   "metadata": {
    "application/vnd.databricks.v1+cell": {
     "cellMetadata": {},
     "inputWidgets": {},
     "nuid": "1d794410-bc90-4be5-8bfd-4201e0cfdf95",
     "showTitle": false,
     "tableResultSettingsMap": {},
     "title": ""
    },
    "colab": {
     "base_uri": "https://localhost:8080/",
     "height": 513
    },
    "id": "VbWmGKdbZYwd",
    "outputId": "2ada1c05-7af1-4803-88de-5b7fbd9b36fd"
   },
   "outputs": [],
   "source": [
    "plt.figure(figsize=(10, 6))\n",
    "ax = sns.histplot(x=merged_df['UtilisationPercentage'], bins=5)\n",
    "plt.title('Distribution of Utilisation Percentage')\n",
    "plt.xlabel('Percentage')\n",
    "plt.ylabel('Frequency')\n",
    "plt.show()"
   ]
  },
  {
   "cell_type": "code",
   "execution_count": 0,
   "metadata": {
    "application/vnd.databricks.v1+cell": {
     "cellMetadata": {},
     "inputWidgets": {},
     "nuid": "e320e26f-3d38-4eec-bd8e-3ad8d4d3a6be",
     "showTitle": false,
     "tableResultSettingsMap": {},
     "title": ""
    },
    "colab": {
     "base_uri": "https://localhost:8080/"
    },
    "id": "ZI-CnuAKaMB2",
    "outputId": "06609b1f-68d0-4bd3-ef39-7706310c7087"
   },
   "outputs": [],
   "source": [
    "merged_df['UtilisationPercentage'].median()"
   ]
  },
  {
   "cell_type": "code",
   "execution_count": 0,
   "metadata": {
    "application/vnd.databricks.v1+cell": {
     "cellMetadata": {},
     "inputWidgets": {},
     "nuid": "3e958edd-c160-4ce3-87ad-a756e0a2fca3",
     "showTitle": false,
     "tableResultSettingsMap": {},
     "title": ""
    },
    "colab": {
     "base_uri": "https://localhost:8080/"
    },
    "id": "RxT6qQW7Y7R9",
    "outputId": "1aef6d92-f39b-45d4-e0c5-998b339068c1"
   },
   "outputs": [],
   "source": [
    "}merged_df['UtilisationPercentage'].max()"
   ]
  },
  {
   "cell_type": "markdown",
   "metadata": {
    "application/vnd.databricks.v1+cell": {
     "cellMetadata": {},
     "inputWidgets": {},
     "nuid": "77d28138-ca47-4390-8e92-10a955402b1f",
     "showTitle": false,
     "tableResultSettingsMap": {},
     "title": ""
    },
    "id": "NE4giqO8NoHk"
   },
   "source": [
    "# 6. Export Result."
   ]
  },
  {
   "cell_type": "code",
   "execution_count": 0,
   "metadata": {
    "application/vnd.databricks.v1+cell": {
     "cellMetadata": {},
     "inputWidgets": {},
     "nuid": "374bbd88-8d9a-44a7-ae6f-51ef2b96838a",
     "showTitle": false,
     "tableResultSettingsMap": {},
     "title": ""
    },
    "id": "jZXv1oDhHd5D"
   },
   "outputs": [],
   "source": [
    "result_df = merged_df[['Registration', 'Start Date', 'AvgDaysActiveInWeek', 'DaysOfActivity', 'LeaseDays', 'UtilisationPercentage']].copy()"
   ]
  },
  {
   "cell_type": "code",
   "execution_count": 0,
   "metadata": {
    "application/vnd.databricks.v1+cell": {
     "cellMetadata": {},
     "inputWidgets": {},
     "nuid": "869890dc-9bb4-4b45-a65d-917b8ec3f98a",
     "showTitle": false,
     "tableResultSettingsMap": {},
     "title": ""
    },
    "colab": {
     "base_uri": "https://localhost:8080/"
    },
    "id": "3WJMZzk8Cojj",
    "outputId": "09a0bb43-dcdf-42ab-a3d4-83608b7deece"
   },
   "outputs": [],
   "source": [
    "result_df = result_df.sort_values(by='UtilisationPercentage', ascending=True)\n",
    "\n",
    "# Export to CSV\n",
    "result_df.to_csv('result_df.csv', index=False)\n",
    "files.download('result_df.csv')"
   ]
  },
  {
   "cell_type": "markdown",
   "metadata": {
    "application/vnd.databricks.v1+cell": {
     "cellMetadata": {},
     "inputWidgets": {},
     "nuid": "131097f8-d437-43a2-8ba3-47c117f6ed2c",
     "showTitle": false,
     "tableResultSettingsMap": {},
     "title": ""
    },
    "id": "012d2d5ZLxfh"
   },
   "source": [
    "# 7. Bonus: Confirm utilisation using Trip Distance."
   ]
  },
  {
   "cell_type": "code",
   "execution_count": 0,
   "metadata": {
    "application/vnd.databricks.v1+cell": {
     "cellMetadata": {},
     "inputWidgets": {},
     "nuid": "aa1b338e-0700-44ec-bce0-2ba6dde0fede",
     "showTitle": false,
     "tableResultSettingsMap": {},
     "title": ""
    },
    "colab": {
     "base_uri": "https://localhost:8080/"
    },
    "id": "JYtBn71YJBaz",
    "outputId": "e6dbf235-15ae-4244-e5ea-8c920f78c1bf"
   },
   "outputs": [],
   "source": [
    "combined_df[combined_df['Registration'] == 'MW69XCJ']"
   ]
  },
  {
   "cell_type": "code",
   "execution_count": 0,
   "metadata": {
    "application/vnd.databricks.v1+cell": {
     "cellMetadata": {},
     "inputWidgets": {},
     "nuid": "6f2954fd-9788-4733-9c10-2a09dee5fa64",
     "showTitle": false,
     "tableResultSettingsMap": {},
     "title": ""
    },
    "colab": {
     "base_uri": "https://localhost:8080/"
    },
    "id": "JDGsIqAzJdTt",
    "outputId": "fe43f50d-fb3e-4e39-8812-2f1fc928ece6"
   },
   "outputs": [],
   "source": [
    "open_leases[open_leases['Reg No'] == 'MW69XCJ']"
   ]
  },
  {
   "cell_type": "code",
   "execution_count": 0,
   "metadata": {
    "application/vnd.databricks.v1+cell": {
     "cellMetadata": {},
     "inputWidgets": {},
     "nuid": "46805f18-0241-455a-93db-7ac70fa18a27",
     "showTitle": false,
     "tableResultSettingsMap": {},
     "title": ""
    },
    "id": "fZNmQhIeMjFX"
   },
   "outputs": [],
   "source": [
    "total_trip_distance = filtered_combined_df.groupby(['Registration', 'ActivityDate'])['TripDistance'].sum().reset_index()"
   ]
  },
  {
   "cell_type": "code",
   "execution_count": 0,
   "metadata": {
    "application/vnd.databricks.v1+cell": {
     "cellMetadata": {},
     "inputWidgets": {},
     "nuid": "fc389a98-cc1e-485e-b3ac-a0367a15ce91",
     "showTitle": false,
     "tableResultSettingsMap": {},
     "title": ""
    },
    "colab": {
     "base_uri": "https://localhost:8080/"
    },
    "id": "ZArHiwYEK64G",
    "outputId": "ff1dfee8-22db-4fd3-ec37-9f040e2261e6"
   },
   "outputs": [],
   "source": [
    "total_trip_distance[total_trip_distance['Registration'] == 'MW69XCJ']['TripDistance'].sum()"
   ]
  },
  {
   "cell_type": "code",
   "execution_count": 0,
   "metadata": {
    "application/vnd.databricks.v1+cell": {
     "cellMetadata": {},
     "inputWidgets": {},
     "nuid": "6d8cdb9e-4d44-49bd-9b49-65dd7c247c68",
     "showTitle": false,
     "tableResultSettingsMap": {},
     "title": ""
    },
    "colab": {
     "base_uri": "https://localhost:8080/"
    },
    "id": "PbDQbY6iF5xU",
    "outputId": "2d003bfa-c443-4116-fbb4-90a42e9d8cd8"
   },
   "outputs": [],
   "source": [
    "total_trip_distance[total_trip_distance['Registration'] == 'MW69XCJ']"
   ]
  }
 ],
 "metadata": {
  "application/vnd.databricks.v1+notebook": {
   "computePreferences": null,
   "dashboards": [],
   "environmentMetadata": null,
   "inputWidgetPreferences": null,
   "language": "python",
   "notebookMetadata": {
    "pythonIndentUnit": 2
   },
   "notebookName": "vehicleLease",
   "widgets": {}
  },
  "colab": {
   "collapsed_sections": [
    "nSC83ohRoikg",
    "BO57SACDoZ0r",
    "5fhEKxmKRLIk",
    "rNGM4Kd6SYaJ",
    "VyUh44ZNSoCa",
    "2puiTK6paRhq",
    "mH_SXxBU2iOO",
    "c8uphp3yvfNu",
    "Cu0CcSkZvtgN",
    "jZ84ztZc4l96",
    "PZc3iawAnqKy",
    "7F-OF1KS6Igt",
    "NbMAimocNayo",
    "NE4giqO8NoHk",
    "012d2d5ZLxfh"
   ],
   "provenance": []
  },
  "kernelspec": {
   "display_name": "Python 3",
   "name": "python3"
  },
  "language_info": {
   "name": "python"
  }
 },
 "nbformat": 4,
 "nbformat_minor": 0
}
